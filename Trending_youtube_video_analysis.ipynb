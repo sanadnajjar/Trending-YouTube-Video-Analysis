{
 "cells": [
  {
   "cell_type": "code",
   "execution_count": 1,
   "metadata": {},
   "outputs": [
    {
     "name": "stderr",
     "output_type": "stream",
     "text": [
      "/opt/anaconda3/lib/python3.7/importlib/_bootstrap.py:219: RuntimeWarning: numpy.ufunc size changed, may indicate binary incompatibility. Expected 192 from C header, got 216 from PyObject\n",
      "  return f(*args, **kwds)\n"
     ]
    }
   ],
   "source": [
    "import pandas as pd\n",
    "import numpy as np\n",
    "import json\n",
    "import matplotlib.pyplot as plt\n",
    "from matplotlib import cm\n",
    "import matplotlib\n",
    "\n",
    "matplotlib.rcParams['figure.figsize'] = (10,10)"
   ]
  },
  {
   "cell_type": "code",
   "execution_count": 2,
   "metadata": {},
   "outputs": [
    {
     "data": {
      "text/html": [
       "<div>\n",
       "<style scoped>\n",
       "    .dataframe tbody tr th:only-of-type {\n",
       "        vertical-align: middle;\n",
       "    }\n",
       "\n",
       "    .dataframe tbody tr th {\n",
       "        vertical-align: top;\n",
       "    }\n",
       "\n",
       "    .dataframe thead th {\n",
       "        text-align: right;\n",
       "    }\n",
       "</style>\n",
       "<table border=\"1\" class=\"dataframe\">\n",
       "  <thead>\n",
       "    <tr style=\"text-align: right;\">\n",
       "      <th></th>\n",
       "      <th>trending_date</th>\n",
       "      <th>title</th>\n",
       "      <th>channel_title</th>\n",
       "      <th>category_id</th>\n",
       "      <th>publish_time</th>\n",
       "      <th>tags</th>\n",
       "      <th>views</th>\n",
       "      <th>likes</th>\n",
       "      <th>dislikes</th>\n",
       "      <th>comment_count</th>\n",
       "      <th>thumbnail_link</th>\n",
       "      <th>comments_disabled</th>\n",
       "      <th>ratings_disabled</th>\n",
       "      <th>video_error_or_removed</th>\n",
       "      <th>description</th>\n",
       "    </tr>\n",
       "    <tr>\n",
       "      <th>video_id</th>\n",
       "      <th></th>\n",
       "      <th></th>\n",
       "      <th></th>\n",
       "      <th></th>\n",
       "      <th></th>\n",
       "      <th></th>\n",
       "      <th></th>\n",
       "      <th></th>\n",
       "      <th></th>\n",
       "      <th></th>\n",
       "      <th></th>\n",
       "      <th></th>\n",
       "      <th></th>\n",
       "      <th></th>\n",
       "      <th></th>\n",
       "    </tr>\n",
       "  </thead>\n",
       "  <tbody>\n",
       "    <tr>\n",
       "      <td>2kyS6SvSYSE</td>\n",
       "      <td>17.14.11</td>\n",
       "      <td>WE WANT TO TALK ABOUT OUR MARRIAGE</td>\n",
       "      <td>CaseyNeistat</td>\n",
       "      <td>22</td>\n",
       "      <td>2017-11-13T17:13:01.000Z</td>\n",
       "      <td>SHANtell martin</td>\n",
       "      <td>748374</td>\n",
       "      <td>57527</td>\n",
       "      <td>2966</td>\n",
       "      <td>15954</td>\n",
       "      <td>https://i.ytimg.com/vi/2kyS6SvSYSE/default.jpg</td>\n",
       "      <td>False</td>\n",
       "      <td>False</td>\n",
       "      <td>False</td>\n",
       "      <td>SHANTELL'S CHANNEL - https://www.youtube.com/s...</td>\n",
       "    </tr>\n",
       "    <tr>\n",
       "      <td>1ZAPwfrtAFY</td>\n",
       "      <td>17.14.11</td>\n",
       "      <td>The Trump Presidency: Last Week Tonight with J...</td>\n",
       "      <td>LastWeekTonight</td>\n",
       "      <td>24</td>\n",
       "      <td>2017-11-13T07:30:00.000Z</td>\n",
       "      <td>last week tonight trump presidency|\"last week ...</td>\n",
       "      <td>2418783</td>\n",
       "      <td>97185</td>\n",
       "      <td>6146</td>\n",
       "      <td>12703</td>\n",
       "      <td>https://i.ytimg.com/vi/1ZAPwfrtAFY/default.jpg</td>\n",
       "      <td>False</td>\n",
       "      <td>False</td>\n",
       "      <td>False</td>\n",
       "      <td>One year after the presidential election, John...</td>\n",
       "    </tr>\n",
       "    <tr>\n",
       "      <td>5qpjK5DgCt4</td>\n",
       "      <td>17.14.11</td>\n",
       "      <td>Racist Superman | Rudy Mancuso, King Bach &amp; Le...</td>\n",
       "      <td>Rudy Mancuso</td>\n",
       "      <td>23</td>\n",
       "      <td>2017-11-12T19:05:24.000Z</td>\n",
       "      <td>racist superman|\"rudy\"|\"mancuso\"|\"king\"|\"bach\"...</td>\n",
       "      <td>3191434</td>\n",
       "      <td>146033</td>\n",
       "      <td>5339</td>\n",
       "      <td>8181</td>\n",
       "      <td>https://i.ytimg.com/vi/5qpjK5DgCt4/default.jpg</td>\n",
       "      <td>False</td>\n",
       "      <td>False</td>\n",
       "      <td>False</td>\n",
       "      <td>WATCH MY PREVIOUS VIDEO ▶ \\n\\nSUBSCRIBE ► http...</td>\n",
       "    </tr>\n",
       "    <tr>\n",
       "      <td>puqaWrEC7tY</td>\n",
       "      <td>17.14.11</td>\n",
       "      <td>Nickelback Lyrics: Real or Fake?</td>\n",
       "      <td>Good Mythical Morning</td>\n",
       "      <td>24</td>\n",
       "      <td>2017-11-13T11:00:04.000Z</td>\n",
       "      <td>rhett and link|\"gmm\"|\"good mythical morning\"|\"...</td>\n",
       "      <td>343168</td>\n",
       "      <td>10172</td>\n",
       "      <td>666</td>\n",
       "      <td>2146</td>\n",
       "      <td>https://i.ytimg.com/vi/puqaWrEC7tY/default.jpg</td>\n",
       "      <td>False</td>\n",
       "      <td>False</td>\n",
       "      <td>False</td>\n",
       "      <td>Today we find out if Link is a Nickelback amat...</td>\n",
       "    </tr>\n",
       "    <tr>\n",
       "      <td>d380meD0W0M</td>\n",
       "      <td>17.14.11</td>\n",
       "      <td>I Dare You: GOING BALD!?</td>\n",
       "      <td>nigahiga</td>\n",
       "      <td>24</td>\n",
       "      <td>2017-11-12T18:01:41.000Z</td>\n",
       "      <td>ryan|\"higa\"|\"higatv\"|\"nigahiga\"|\"i dare you\"|\"...</td>\n",
       "      <td>2095731</td>\n",
       "      <td>132235</td>\n",
       "      <td>1989</td>\n",
       "      <td>17518</td>\n",
       "      <td>https://i.ytimg.com/vi/d380meD0W0M/default.jpg</td>\n",
       "      <td>False</td>\n",
       "      <td>False</td>\n",
       "      <td>False</td>\n",
       "      <td>I know it's been a while since we did this sho...</td>\n",
       "    </tr>\n",
       "  </tbody>\n",
       "</table>\n",
       "</div>"
      ],
      "text/plain": [
       "            trending_date                                              title  \\\n",
       "video_id                                                                       \n",
       "2kyS6SvSYSE      17.14.11                 WE WANT TO TALK ABOUT OUR MARRIAGE   \n",
       "1ZAPwfrtAFY      17.14.11  The Trump Presidency: Last Week Tonight with J...   \n",
       "5qpjK5DgCt4      17.14.11  Racist Superman | Rudy Mancuso, King Bach & Le...   \n",
       "puqaWrEC7tY      17.14.11                   Nickelback Lyrics: Real or Fake?   \n",
       "d380meD0W0M      17.14.11                           I Dare You: GOING BALD!?   \n",
       "\n",
       "                     channel_title  category_id              publish_time  \\\n",
       "video_id                                                                    \n",
       "2kyS6SvSYSE           CaseyNeistat           22  2017-11-13T17:13:01.000Z   \n",
       "1ZAPwfrtAFY        LastWeekTonight           24  2017-11-13T07:30:00.000Z   \n",
       "5qpjK5DgCt4           Rudy Mancuso           23  2017-11-12T19:05:24.000Z   \n",
       "puqaWrEC7tY  Good Mythical Morning           24  2017-11-13T11:00:04.000Z   \n",
       "d380meD0W0M               nigahiga           24  2017-11-12T18:01:41.000Z   \n",
       "\n",
       "                                                          tags    views  \\\n",
       "video_id                                                                  \n",
       "2kyS6SvSYSE                                    SHANtell martin   748374   \n",
       "1ZAPwfrtAFY  last week tonight trump presidency|\"last week ...  2418783   \n",
       "5qpjK5DgCt4  racist superman|\"rudy\"|\"mancuso\"|\"king\"|\"bach\"...  3191434   \n",
       "puqaWrEC7tY  rhett and link|\"gmm\"|\"good mythical morning\"|\"...   343168   \n",
       "d380meD0W0M  ryan|\"higa\"|\"higatv\"|\"nigahiga\"|\"i dare you\"|\"...  2095731   \n",
       "\n",
       "              likes  dislikes  comment_count  \\\n",
       "video_id                                       \n",
       "2kyS6SvSYSE   57527      2966          15954   \n",
       "1ZAPwfrtAFY   97185      6146          12703   \n",
       "5qpjK5DgCt4  146033      5339           8181   \n",
       "puqaWrEC7tY   10172       666           2146   \n",
       "d380meD0W0M  132235      1989          17518   \n",
       "\n",
       "                                             thumbnail_link  \\\n",
       "video_id                                                      \n",
       "2kyS6SvSYSE  https://i.ytimg.com/vi/2kyS6SvSYSE/default.jpg   \n",
       "1ZAPwfrtAFY  https://i.ytimg.com/vi/1ZAPwfrtAFY/default.jpg   \n",
       "5qpjK5DgCt4  https://i.ytimg.com/vi/5qpjK5DgCt4/default.jpg   \n",
       "puqaWrEC7tY  https://i.ytimg.com/vi/puqaWrEC7tY/default.jpg   \n",
       "d380meD0W0M  https://i.ytimg.com/vi/d380meD0W0M/default.jpg   \n",
       "\n",
       "             comments_disabled  ratings_disabled  video_error_or_removed  \\\n",
       "video_id                                                                   \n",
       "2kyS6SvSYSE              False             False                   False   \n",
       "1ZAPwfrtAFY              False             False                   False   \n",
       "5qpjK5DgCt4              False             False                   False   \n",
       "puqaWrEC7tY              False             False                   False   \n",
       "d380meD0W0M              False             False                   False   \n",
       "\n",
       "                                                   description  \n",
       "video_id                                                        \n",
       "2kyS6SvSYSE  SHANTELL'S CHANNEL - https://www.youtube.com/s...  \n",
       "1ZAPwfrtAFY  One year after the presidential election, John...  \n",
       "5qpjK5DgCt4  WATCH MY PREVIOUS VIDEO ▶ \\n\\nSUBSCRIBE ► http...  \n",
       "puqaWrEC7tY  Today we find out if Link is a Nickelback amat...  \n",
       "d380meD0W0M  I know it's been a while since we did this sho...  "
      ]
     },
     "execution_count": 2,
     "metadata": {},
     "output_type": "execute_result"
    }
   ],
   "source": [
    "raw_data = pd.read_csv('USvideos.csv', index_col='video_id')\n",
    "raw_data.head()"
   ]
  },
  {
   "cell_type": "code",
   "execution_count": 3,
   "metadata": {},
   "outputs": [
    {
     "name": "stdout",
     "output_type": "stream",
     "text": [
      "<class 'pandas.core.frame.DataFrame'>\n",
      "Index: 40949 entries, 2kyS6SvSYSE to ooyjaVdt-jA\n",
      "Data columns (total 15 columns):\n",
      "trending_date             40949 non-null object\n",
      "title                     40949 non-null object\n",
      "channel_title             40949 non-null object\n",
      "category_id               40949 non-null int64\n",
      "publish_time              40949 non-null object\n",
      "tags                      40949 non-null object\n",
      "views                     40949 non-null int64\n",
      "likes                     40949 non-null int64\n",
      "dislikes                  40949 non-null int64\n",
      "comment_count             40949 non-null int64\n",
      "thumbnail_link            40949 non-null object\n",
      "comments_disabled         40949 non-null bool\n",
      "ratings_disabled          40949 non-null bool\n",
      "video_error_or_removed    40949 non-null bool\n",
      "description               40379 non-null object\n",
      "dtypes: bool(3), int64(5), object(7)\n",
      "memory usage: 4.2+ MB\n"
     ]
    }
   ],
   "source": [
    "raw_data.info()"
   ]
  },
  {
   "cell_type": "code",
   "execution_count": 4,
   "metadata": {},
   "outputs": [
    {
     "data": {
      "text/plain": [
       "video_id\n",
       "2kyS6SvSYSE   2017-11-14\n",
       "1ZAPwfrtAFY   2017-11-14\n",
       "5qpjK5DgCt4   2017-11-14\n",
       "puqaWrEC7tY   2017-11-14\n",
       "d380meD0W0M   2017-11-14\n",
       "Name: trending_date, dtype: datetime64[ns]"
      ]
     },
     "execution_count": 4,
     "metadata": {},
     "output_type": "execute_result"
    }
   ],
   "source": [
    "raw_data['trending_date'] = pd.to_datetime(raw_data['trending_date'], format='%y.%d.%m')\n",
    "raw_data['trending_date'].head()"
   ]
  },
  {
   "cell_type": "code",
   "execution_count": 6,
   "metadata": {},
   "outputs": [
    {
     "data": {
      "text/plain": [
       "video_id\n",
       "2kyS6SvSYSE   2017-11-13 17:13:01\n",
       "1ZAPwfrtAFY   2017-11-13 07:30:00\n",
       "5qpjK5DgCt4   2017-11-12 19:05:24\n",
       "puqaWrEC7tY   2017-11-13 11:00:04\n",
       "d380meD0W0M   2017-11-12 18:01:41\n",
       "Name: publish_time, dtype: datetime64[ns]"
      ]
     },
     "execution_count": 6,
     "metadata": {},
     "output_type": "execute_result"
    }
   ],
   "source": [
    "raw_data['publish_time'] = pd.to_datetime(raw_data['publish_time'], format='%Y-%m-%dT%H:%M:%S.%fZ')\n",
    "raw_data['publish_time'].head()"
   ]
  },
  {
   "cell_type": "code",
   "execution_count": 7,
   "metadata": {},
   "outputs": [
    {
     "data": {
      "text/html": [
       "<div>\n",
       "<style scoped>\n",
       "    .dataframe tbody tr th:only-of-type {\n",
       "        vertical-align: middle;\n",
       "    }\n",
       "\n",
       "    .dataframe tbody tr th {\n",
       "        vertical-align: top;\n",
       "    }\n",
       "\n",
       "    .dataframe thead th {\n",
       "        text-align: right;\n",
       "    }\n",
       "</style>\n",
       "<table border=\"1\" class=\"dataframe\">\n",
       "  <thead>\n",
       "    <tr style=\"text-align: right;\">\n",
       "      <th></th>\n",
       "      <th>publish_date</th>\n",
       "      <th>publish_time</th>\n",
       "    </tr>\n",
       "    <tr>\n",
       "      <th>video_id</th>\n",
       "      <th></th>\n",
       "      <th></th>\n",
       "    </tr>\n",
       "  </thead>\n",
       "  <tbody>\n",
       "    <tr>\n",
       "      <td>2kyS6SvSYSE</td>\n",
       "      <td>2017-11-13</td>\n",
       "      <td>17:13:01</td>\n",
       "    </tr>\n",
       "    <tr>\n",
       "      <td>1ZAPwfrtAFY</td>\n",
       "      <td>2017-11-13</td>\n",
       "      <td>07:30:00</td>\n",
       "    </tr>\n",
       "    <tr>\n",
       "      <td>5qpjK5DgCt4</td>\n",
       "      <td>2017-11-12</td>\n",
       "      <td>19:05:24</td>\n",
       "    </tr>\n",
       "    <tr>\n",
       "      <td>puqaWrEC7tY</td>\n",
       "      <td>2017-11-13</td>\n",
       "      <td>11:00:04</td>\n",
       "    </tr>\n",
       "    <tr>\n",
       "      <td>d380meD0W0M</td>\n",
       "      <td>2017-11-12</td>\n",
       "      <td>18:01:41</td>\n",
       "    </tr>\n",
       "  </tbody>\n",
       "</table>\n",
       "</div>"
      ],
      "text/plain": [
       "            publish_date publish_time\n",
       "video_id                             \n",
       "2kyS6SvSYSE   2017-11-13     17:13:01\n",
       "1ZAPwfrtAFY   2017-11-13     07:30:00\n",
       "5qpjK5DgCt4   2017-11-12     19:05:24\n",
       "puqaWrEC7tY   2017-11-13     11:00:04\n",
       "d380meD0W0M   2017-11-12     18:01:41"
      ]
     },
     "execution_count": 7,
     "metadata": {},
     "output_type": "execute_result"
    }
   ],
   "source": [
    "raw_data.insert(4, 'publish_date', raw_data['publish_time'].dt.date)\n",
    "raw_data['publish_time'] = raw_data['publish_time'].dt.time\n",
    "raw_data[['publish_date', 'publish_time']].head()"
   ]
  },
  {
   "cell_type": "code",
   "execution_count": 8,
   "metadata": {},
   "outputs": [],
   "source": [
    "type_int_list = ['views', 'likes', 'dislikes', 'comment_count']\n",
    "for column in type_int_list:\n",
    "    raw_data[column] = raw_data[column].astype(int)\n",
    "    \n",
    "type_str_list = ['category_id']\n",
    "for column in type_str_list:\n",
    "    raw_data[column] = raw_data[column].astype(str)"
   ]
  },
  {
   "cell_type": "code",
   "execution_count": 9,
   "metadata": {},
   "outputs": [
    {
     "name": "stdout",
     "output_type": "stream",
     "text": [
      "<class 'pandas.core.frame.DataFrame'>\n",
      "Index: 40949 entries, 2kyS6SvSYSE to ooyjaVdt-jA\n",
      "Data columns (total 16 columns):\n",
      "trending_date             40949 non-null datetime64[ns]\n",
      "title                     40949 non-null object\n",
      "channel_title             40949 non-null object\n",
      "category_id               40949 non-null object\n",
      "publish_date              40949 non-null object\n",
      "publish_time              40949 non-null object\n",
      "tags                      40949 non-null object\n",
      "views                     40949 non-null int64\n",
      "likes                     40949 non-null int64\n",
      "dislikes                  40949 non-null int64\n",
      "comment_count             40949 non-null int64\n",
      "thumbnail_link            40949 non-null object\n",
      "comments_disabled         40949 non-null bool\n",
      "ratings_disabled          40949 non-null bool\n",
      "video_error_or_removed    40949 non-null bool\n",
      "description               40379 non-null object\n",
      "dtypes: bool(3), datetime64[ns](1), int64(4), object(8)\n",
      "memory usage: 4.5+ MB\n"
     ]
    }
   ],
   "source": [
    "raw_data.info()"
   ]
  },
  {
   "cell_type": "code",
   "execution_count": 11,
   "metadata": {},
   "outputs": [
    {
     "data": {
      "text/plain": [
       "{'1': 'Film & Animation',\n",
       " '2': 'Autos & Vehicles',\n",
       " '10': 'Music',\n",
       " '15': 'Pets & Animals',\n",
       " '17': 'Sports',\n",
       " '18': 'Short Movies',\n",
       " '19': 'Travel & Events',\n",
       " '20': 'Gaming',\n",
       " '21': 'Videoblogging',\n",
       " '22': 'People & Blogs',\n",
       " '23': 'Comedy',\n",
       " '24': 'Entertainment',\n",
       " '25': 'News & Politics',\n",
       " '26': 'Howto & Style',\n",
       " '27': 'Education',\n",
       " '28': 'Science & Technology',\n",
       " '29': 'Nonprofits & Activism',\n",
       " '30': 'Movies',\n",
       " '31': 'Anime/Animation',\n",
       " '32': 'Action/Adventure',\n",
       " '33': 'Classics',\n",
       " '34': 'Comedy',\n",
       " '35': 'Documentary',\n",
       " '36': 'Drama',\n",
       " '37': 'Family',\n",
       " '38': 'Foreign',\n",
       " '39': 'Horror',\n",
       " '40': 'Sci-Fi/Fantasy',\n",
       " '41': 'Thriller',\n",
       " '42': 'Shorts',\n",
       " '43': 'Shows',\n",
       " '44': 'Trailers'}"
      ]
     },
     "execution_count": 11,
     "metadata": {},
     "output_type": "execute_result"
    }
   ],
   "source": [
    "id_to_category = {}\n",
    "\n",
    "with open('US_category_id.json', 'r') as f:\n",
    "    dataJson = json.load(f)\n",
    "    for category in dataJson['items']:\n",
    "        id_to_category[category['id']] = category['snippet']['title']\n",
    "id_to_category"
   ]
  },
  {
   "cell_type": "code",
   "execution_count": 12,
   "metadata": {},
   "outputs": [
    {
     "data": {
      "text/html": [
       "<div>\n",
       "<style scoped>\n",
       "    .dataframe tbody tr th:only-of-type {\n",
       "        vertical-align: middle;\n",
       "    }\n",
       "\n",
       "    .dataframe tbody tr th {\n",
       "        vertical-align: top;\n",
       "    }\n",
       "\n",
       "    .dataframe thead th {\n",
       "        text-align: right;\n",
       "    }\n",
       "</style>\n",
       "<table border=\"1\" class=\"dataframe\">\n",
       "  <thead>\n",
       "    <tr style=\"text-align: right;\">\n",
       "      <th></th>\n",
       "      <th>category_id</th>\n",
       "      <th>category</th>\n",
       "    </tr>\n",
       "    <tr>\n",
       "      <th>video_id</th>\n",
       "      <th></th>\n",
       "      <th></th>\n",
       "    </tr>\n",
       "  </thead>\n",
       "  <tbody>\n",
       "    <tr>\n",
       "      <td>2kyS6SvSYSE</td>\n",
       "      <td>22</td>\n",
       "      <td>People &amp; Blogs</td>\n",
       "    </tr>\n",
       "    <tr>\n",
       "      <td>1ZAPwfrtAFY</td>\n",
       "      <td>24</td>\n",
       "      <td>Entertainment</td>\n",
       "    </tr>\n",
       "    <tr>\n",
       "      <td>5qpjK5DgCt4</td>\n",
       "      <td>23</td>\n",
       "      <td>Comedy</td>\n",
       "    </tr>\n",
       "    <tr>\n",
       "      <td>puqaWrEC7tY</td>\n",
       "      <td>24</td>\n",
       "      <td>Entertainment</td>\n",
       "    </tr>\n",
       "    <tr>\n",
       "      <td>d380meD0W0M</td>\n",
       "      <td>24</td>\n",
       "      <td>Entertainment</td>\n",
       "    </tr>\n",
       "  </tbody>\n",
       "</table>\n",
       "</div>"
      ],
      "text/plain": [
       "            category_id        category\n",
       "video_id                               \n",
       "2kyS6SvSYSE          22  People & Blogs\n",
       "1ZAPwfrtAFY          24   Entertainment\n",
       "5qpjK5DgCt4          23          Comedy\n",
       "puqaWrEC7tY          24   Entertainment\n",
       "d380meD0W0M          24   Entertainment"
      ]
     },
     "execution_count": 12,
     "metadata": {},
     "output_type": "execute_result"
    }
   ],
   "source": [
    "raw_data.insert(4, 'category', raw_data['category_id'].map(id_to_category))\n",
    "raw_data[['category_id', 'category']].head()"
   ]
  },
  {
   "cell_type": "markdown",
   "metadata": {},
   "source": [
    "### Correlation analysis and heatmap"
   ]
  },
  {
   "cell_type": "code",
   "execution_count": 13,
   "metadata": {},
   "outputs": [
    {
     "data": {
      "text/html": [
       "<div>\n",
       "<style scoped>\n",
       "    .dataframe tbody tr th:only-of-type {\n",
       "        vertical-align: middle;\n",
       "    }\n",
       "\n",
       "    .dataframe tbody tr th {\n",
       "        vertical-align: top;\n",
       "    }\n",
       "\n",
       "    .dataframe thead th {\n",
       "        text-align: right;\n",
       "    }\n",
       "</style>\n",
       "<table border=\"1\" class=\"dataframe\">\n",
       "  <thead>\n",
       "    <tr style=\"text-align: right;\">\n",
       "      <th></th>\n",
       "      <th>views</th>\n",
       "      <th>likes</th>\n",
       "      <th>dislikes</th>\n",
       "      <th>comment_count</th>\n",
       "    </tr>\n",
       "  </thead>\n",
       "  <tbody>\n",
       "    <tr>\n",
       "      <td>views</td>\n",
       "      <td>1.000000</td>\n",
       "      <td>0.849177</td>\n",
       "      <td>0.472213</td>\n",
       "      <td>0.617621</td>\n",
       "    </tr>\n",
       "    <tr>\n",
       "      <td>likes</td>\n",
       "      <td>0.849177</td>\n",
       "      <td>1.000000</td>\n",
       "      <td>0.447186</td>\n",
       "      <td>0.803057</td>\n",
       "    </tr>\n",
       "    <tr>\n",
       "      <td>dislikes</td>\n",
       "      <td>0.472213</td>\n",
       "      <td>0.447186</td>\n",
       "      <td>1.000000</td>\n",
       "      <td>0.700184</td>\n",
       "    </tr>\n",
       "    <tr>\n",
       "      <td>comment_count</td>\n",
       "      <td>0.617621</td>\n",
       "      <td>0.803057</td>\n",
       "      <td>0.700184</td>\n",
       "      <td>1.000000</td>\n",
       "    </tr>\n",
       "  </tbody>\n",
       "</table>\n",
       "</div>"
      ],
      "text/plain": [
       "                  views     likes  dislikes  comment_count\n",
       "views          1.000000  0.849177  0.472213       0.617621\n",
       "likes          0.849177  1.000000  0.447186       0.803057\n",
       "dislikes       0.472213  0.447186  1.000000       0.700184\n",
       "comment_count  0.617621  0.803057  0.700184       1.000000"
      ]
     },
     "execution_count": 13,
     "metadata": {},
     "output_type": "execute_result"
    }
   ],
   "source": [
    "keep_cols = ['views', 'likes', 'dislikes', 'comment_count']\n",
    "corr_matrix = raw_data[keep_cols].corr()\n",
    "corr_matrix"
   ]
  },
  {
   "cell_type": "code",
   "execution_count": 21,
   "metadata": {},
   "outputs": [
    {
     "data": {
      "image/png": "[encoded data removed]",
      "text/plain": [
       "<Figure size 432x288 with 2 Axes>"
      ]
     },
     "metadata": {
      "needs_background": "light"
     },
     "output_type": "display_data"
    }
   ],
   "source": [
    "fig, ax = plt.subplots()\n",
    "heatmap = ax.imshow(corr_matrix, interpolation='nearest', cmap=cm.coolwarm)\n",
    "\n",
    "cbar_min = corr_matrix.min().min()\n",
    "cbar_max = corr_matrix.max().max()\n",
    "cbar = fig.colorbar(heatmap, ticks=[cbar_min, cbar_max])\n",
    "\n",
    "labels = ['']\n",
    "for column in keep_cols:\n",
    "    labels.append(column)\n",
    "    labels.append('')\n",
    "ax.set_yticklabels(labels, minor=False)\n",
    "ax.set_xticklabels(labels, minor=False)\n",
    "\n",
    "plt.show()"
   ]
  },
  {
   "cell_type": "markdown",
   "metadata": {},
   "source": [
    "### Handling videos that trended in multiple days"
   ]
  },
  {
   "cell_type": "code",
   "execution_count": 22,
   "metadata": {},
   "outputs": [
    {
     "data": {
      "text/plain": [
       "(40949, 17)"
      ]
     },
     "execution_count": 22,
     "metadata": {},
     "output_type": "execute_result"
    }
   ],
   "source": [
    "raw_data.shape"
   ]
  },
  {
   "cell_type": "code",
   "execution_count": 23,
   "metadata": {},
   "outputs": [
    {
     "data": {
      "text/plain": [
       "(6351, 17)"
      ]
     },
     "execution_count": 23,
     "metadata": {},
     "output_type": "execute_result"
    }
   ],
   "source": [
    "raw_data = raw_data[~raw_data.index.duplicated(keep='last')]\n",
    "raw_data.shape"
   ]
  },
  {
   "cell_type": "code",
   "execution_count": 24,
   "metadata": {},
   "outputs": [
    {
     "data": {
      "text/plain": [
       "False"
      ]
     },
     "execution_count": 24,
     "metadata": {},
     "output_type": "execute_result"
    }
   ],
   "source": [
    "raw_data.index.duplicated().any()"
   ]
  },
  {
   "cell_type": "markdown",
   "metadata": {},
   "source": [
    "### Visualizing most statistics"
   ]
  },
  {
   "cell_type": "code",
   "execution_count": 35,
   "metadata": {},
   "outputs": [],
   "source": [
    "def visualize(raw_data, column, num=10):\n",
    "    sorted_data = raw_data.sort_values(column, ascending=False).iloc[:num]\n",
    "    ax = sorted_data[column].plot.bar()\n",
    "    \n",
    "    labels = []\n",
    "    for item in sorted_data['title']:\n",
    "        labels.append(item[:10] + '...')\n",
    "    ax.set_xticklabels(labels, rotation=45, fontsize=10)\n",
    "    plt.show"
   ]
  },
  {
   "cell_type": "code",
   "execution_count": 36,
   "metadata": {},
   "outputs": [
    {
     "data": {
      "image/png": "[encoded data removed]",
      "text/plain": [
       "<Figure size 432x288 with 1 Axes>"
      ]
     },
     "metadata": {
      "needs_background": "light"
     },
     "output_type": "display_data"
    }
   ],
   "source": [
    "visualize(raw_data, 'views')"
   ]
  },
  {
   "cell_type": "code",
   "execution_count": 37,
   "metadata": {},
   "outputs": [
    {
     "data": {
      "image/png": "[encoded data removed]",
      "text/plain": [
       "<Figure size 432x288 with 1 Axes>"
      ]
     },
     "metadata": {
      "needs_background": "light"
     },
     "output_type": "display_data"
    }
   ],
   "source": [
    "visualize(raw_data, 'likes', num=5)"
   ]
  },
  {
   "cell_type": "code",
   "execution_count": 38,
   "metadata": {},
   "outputs": [
    {
     "data": {
      "image/png": "[encoded data removed]",
      "text/plain": [
       "<Figure size 432x288 with 1 Axes>"
      ]
     },
     "metadata": {
      "needs_background": "light"
     },
     "output_type": "display_data"
    }
   ],
   "source": [
    "visualize(raw_data, 'dislikes')"
   ]
  },
  {
   "cell_type": "code",
   "execution_count": 39,
   "metadata": {},
   "outputs": [
    {
     "data": {
      "image/png": "[encoded data removed]",
      "text/plain": [
       "<Figure size 432x288 with 1 Axes>"
      ]
     },
     "metadata": {
      "needs_background": "light"
     },
     "output_type": "display_data"
    }
   ],
   "source": [
    "visualize(raw_data, 'comment_count')"
   ]
  },
  {
   "cell_type": "markdown",
   "metadata": {},
   "source": [
    "### Video-specific statistics visualizations"
   ]
  },
  {
   "cell_type": "code",
   "execution_count": 47,
   "metadata": {},
   "outputs": [],
   "source": [
    "def visualize_stats(raw_data, id_list):\n",
    "    target_data = raw_data.loc[id_list]\n",
    "    \n",
    "    ax = target_data[['views', 'likes', 'dislikes', 'comment_count']].plot.bar()\n",
    "    \n",
    "    labels = []\n",
    "    \n",
    "    for item in target_data['title']:\n",
    "        labels.append(item[:10] + '...')\n",
    "    ax.set_xticklabels(labels, rotation=25, fontsize=10)\n",
    "    \n",
    "    plt.show()"
   ]
  },
  {
   "cell_type": "code",
   "execution_count": 48,
   "metadata": {},
   "outputs": [],
   "source": [
    "def visualize_likes_dislike(raw_data, id_list):\n",
    "    target_data = raw_data.loc[id_list]\n",
    "    \n",
    "    ax = target_data[['likes', 'dislikes']].plot.bar(stacked=True)\n",
    "    \n",
    "    labels = []\n",
    "    \n",
    "    for item in target_data['title']:\n",
    "        labels.append(item[:10] + '...')\n",
    "    ax.set_xticklabels(labels, rotation=25, fontsize=10)\n",
    "    \n",
    "    plt.show()"
   ]
  },
  {
   "cell_type": "code",
   "execution_count": 49,
   "metadata": {},
   "outputs": [
    {
     "data": {
      "text/plain": [
       "Index(['FDbb28N7iI8', 'FaJmopuuhZE', 'Q1INhRBrwKM', '1iUgR_lKn1c',\n",
       "       'aD5dCMBeySA', 'zkrq7Kpd1so', 'XVKg8uPSb5s', 'M3W0ELaAOIg',\n",
       "       'RxvcH25WThg', 'oMOljrWUUXc'],\n",
       "      dtype='object', name='video_id')"
      ]
     },
     "execution_count": 49,
     "metadata": {},
     "output_type": "execute_result"
    }
   ],
   "source": [
    "sample_id_list = raw_data.sample(n=10, random_state=4).index\n",
    "sample_id_list"
   ]
  },
  {
   "cell_type": "code",
   "execution_count": 50,
   "metadata": {},
   "outputs": [
    {
     "data": {
      "image/png": "[encoded data removed]",
      "text/plain": [
       "<Figure size 432x288 with 1 Axes>"
      ]
     },
     "metadata": {
      "needs_background": "light"
     },
     "output_type": "display_data"
    }
   ],
   "source": [
    "visualize_stats(raw_data, sample_id_list)"
   ]
  },
  {
   "cell_type": "code",
   "execution_count": 51,
   "metadata": {},
   "outputs": [
    {
     "data": {
      "image/png": "[encoded data removed]",
      "text/plain": [
       "<Figure size 432x288 with 1 Axes>"
      ]
     },
     "metadata": {
      "needs_background": "light"
     },
     "output_type": "display_data"
    }
   ],
   "source": [
    "visualize_likes_dislike(raw_data, sample_id_list)"
   ]
  },
  {
   "cell_type": "markdown",
   "metadata": {},
   "source": [
    "### Category analysis"
   ]
  },
  {
   "cell_type": "code",
   "execution_count": 53,
   "metadata": {},
   "outputs": [
    {
     "data": {
      "text/plain": [
       "Entertainment            1621\n",
       "Music                     801\n",
       "Howto & Style             594\n",
       "Comedy                    544\n",
       "News & Politics           504\n",
       "People & Blogs            495\n",
       "Sports                    449\n",
       "Science & Technology      381\n",
       "Film & Animation          320\n",
       "Education                 251\n",
       "Pets & Animals            140\n",
       "Gaming                    103\n",
       "Autos & Vehicles           71\n",
       "Travel & Events            59\n",
       "Nonprofits & Activism      14\n",
       "Shows                       4\n",
       "Name: category, dtype: int64"
      ]
     },
     "execution_count": 53,
     "metadata": {},
     "output_type": "execute_result"
    }
   ],
   "source": [
    "category_count = raw_data['category'].value_counts()\n",
    "category_count"
   ]
  },
  {
   "cell_type": "code",
   "execution_count": 57,
   "metadata": {},
   "outputs": [
    {
     "data": {
      "image/png": "[encoded data removed]",
      "text/plain": [
       "<Figure size 432x288 with 1 Axes>"
      ]
     },
     "metadata": {
      "needs_background": "light"
     },
     "output_type": "display_data"
    }
   ],
   "source": [
    "ax= category_count.plot.bar()\n",
    "ax.set_xticklabels(labels=category_count.index, rotation=45, fontsize=7)\n",
    "plt.show()"
   ]
  },
  {
   "cell_type": "code",
   "execution_count": null,
   "metadata": {},
   "outputs": [],
   "source": []
  }
 ],
 "metadata": {
  "kernelspec": {
   "display_name": "Python 3",
   "language": "python",
   "name": "python3"
  },
  "language_info": {
   "codemirror_mode": {
    "name": "ipython",
    "version": 3
   },
   "file_extension": ".py",
   "mimetype": "text/x-python",
   "name": "python",
   "nbconvert_exporter": "python",
   "pygments_lexer": "ipython3",
   "version": "3.7.4"
  }
 },
 "nbformat": 4,
 "nbformat_minor": 2
}
